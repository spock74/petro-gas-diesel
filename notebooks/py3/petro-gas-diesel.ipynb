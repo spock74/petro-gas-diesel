{
 "cells": [
  {
   "cell_type": "code",
   "execution_count": 1,
   "metadata": {},
   "outputs": [],
   "source": [
    "# from requests import Session\n",
    "# from zeep import Client\n",
    "# from zeep.transports import Transport"
   ]
  },
  {
   "cell_type": "code",
   "execution_count": 2,
   "metadata": {},
   "outputs": [],
   "source": [
    "# session = Session()\n",
    "# session.verify = '../br.gov.bcb.wildcard-2017.crt'\n",
    "# transport = Transport(session=session)\n",
    "# client = Client(\n",
    "#     'https://www3.bcb.gov.br/sgspub/JSP/sgsgeral/FachadaWSSGS.wsdl',\n",
    "#     transport=transport)"
   ]
  },
  {
   "cell_type": "code",
   "execution_count": 3,
   "metadata": {},
   "outputs": [],
   "source": [
    "import numpy as np\n",
    "import pandas as pd\n",
    "from pandas import Series\n",
    "import statsmodels.api as sm\n",
    "import quandl\n",
    "import plotly.plotly as py\n",
    "import plotly.graph_objs as go\n",
    "import plotly.figure_factory as ff\n",
    "#from statsmodels.graphics.tsaplots import plot_acf"
   ]
  },
  {
   "cell_type": "code",
   "execution_count": 9,
   "metadata": {},
   "outputs": [],
   "source": [
    "df = pd.read_csv('./serie_deflacionada_igpm.csv')"
   ]
  },
  {
   "cell_type": "code",
   "execution_count": 6,
   "metadata": {},
   "outputs": [],
   "source": [
    "presidentes = pd.read_csv('../presidentes/presidentes.csv')\n",
    "cafe_usd = pd.read_csv('../CEPEA-COFFEE_A.csv')\n",
    "cafe_usd = pd.read_csv('../CEPEA-COFFEE_A.csv')"
   ]
  },
  {
   "cell_type": "code",
   "execution_count": 4,
   "metadata": {},
   "outputs": [],
   "source": [
    "GOOG = pd.read_csv('../stocks/GOOG.csv')\n",
    "AAPL = pd.read_csv('../stocks/AAPL.csv')\n",
    "NFLX = pd.read_csv('../stocks/NFLX.csv')\n",
    "AMZN = pd.read_csv('../stocks/AMZN.csv')"
   ]
  },
  {
   "cell_type": "code",
   "execution_count": 6,
   "metadata": {},
   "outputs": [],
   "source": [
    "indices_economicos_br = pd.read_csv('../STI-20180617152617216.csv', sep=';')"
   ]
  },
  {
   "cell_type": "code",
   "execution_count": 13,
   "metadata": {},
   "outputs": [
    {
     "data": {
      "text/html": [
       "<iframe id=\"igraph\" scrolling=\"no\" style=\"border:none;\" seamless=\"seamless\" src=\"https://plot.ly/~moraesje/21.embed\" height=\"525px\" width=\"100%\"></iframe>"
      ],
      "text/plain": [
       "<plotly.tools.PlotlyDisplay object>"
      ]
     },
     "execution_count": 13,
     "metadata": {},
     "output_type": "execute_result"
    }
   ],
   "source": [
    "data_idx_econ_br = [\n",
    "    go.Scatter(\n",
    "        x=indices_economicos_br['DATE'], # assign x as the dataframe column 'x'\n",
    "        y=indices_economicos_br['27574 - COMMODITY INDEX - BRAZIL - INDEX'],\n",
    "        name='col_1'\n",
    "    ),\n",
    "    go.Scatter(\n",
    "        x=indices_economicos_br['DATE'], # assign x as the dataframe column 'x'\n",
    "        y=indices_economicos_br['27575 - COMMODITY INDEX - BRAZIL - AGRICULTURE - INDEX'],\n",
    "        name='AGRICULTURA'\n",
    "    ),\n",
    "    go.Scatter(\n",
    "        x=indices_economicos_br['DATE'], # assign x as the dataframe column 'x'\n",
    "        y=indices_economicos_br['27576 - COMMODITY INDEX - BRAZIL - METAL - INDEX'],\n",
    "        name='METAL'\n",
    "    ),\n",
    "    go.Scatter(\n",
    "        x=indices_economicos_br['DATE'], # assign x as the dataframe column 'x'\n",
    "        y=indices_economicos_br['27577 - COMMODITY INDEX - BRAZIL - ENERGY - INDEX'],\n",
    "        name='ENERGIA'\n",
    "    )\n",
    "]\n",
    "\n",
    "layout = go.Layout(\n",
    "    title='BRAZILIAN ECONOMIC COMMODITY INDEX',\n",
    "    yaxis=dict(title='Preço'),\n",
    "    xaxis=dict(title='Tempo')\n",
    ")\n",
    "\n",
    "fig = go.Figure(data=data_idx_econ_br, layout=layout)\n",
    "py.iplot(fig, filename='file_data_idx_econ_br')"
   ]
  },
  {
   "cell_type": "markdown",
   "metadata": {},
   "source": [
    "-------"
   ]
  },
  {
   "cell_type": "code",
   "execution_count": 70,
   "metadata": {},
   "outputs": [
    {
     "data": {
      "text/html": [
       "<iframe id=\"igraph\" scrolling=\"no\" style=\"border:none;\" seamless=\"seamless\" src=\"https://plot.ly/~moraesje/27.embed\" height=\"525px\" width=\"100%\"></iframe>"
      ],
      "text/plain": [
       "<plotly.tools.PlotlyDisplay object>"
      ]
     },
     "execution_count": 70,
     "metadata": {},
     "output_type": "execute_result"
    }
   ],
   "source": [
    "##\n",
    "gas_defl = df[df.PRODUTO == 'GASOLINA']\n",
    "diesel_defl = df[df.PRODUTO == 'OLEO_DIESEL']\n",
    "etanol_defl = df[df.PRODUTO == 'ETANOL_HIDRATADO']\n",
    "gnv_defl = df[df.PRODUTO == 'GNV']\n",
    "\n",
    "data_nDefl = [\n",
    "    go.Scatter(\n",
    "        x=gas_defl['MES'], # assign x as the dataframe column 'x'\n",
    "        y=gas_defl['PRECO_MEDIO_REVENDA'],\n",
    "        name='Gasolina'\n",
    "    ),\n",
    "    go.Scatter(\n",
    "        x=diesel_defl['MES'], # assign x as the dataframe column 'x'\n",
    "        y=diesel_defl['PRECO_MEDIO_REVENDA'],\n",
    "        name='Diesel'\n",
    "    ),\n",
    "    go.Scatter(\n",
    "        x=etanol_defl['MES'], # assign x as the dataframe column 'x'\n",
    "        y=etanol_defl['PRECO_MEDIO_REVENDA'],\n",
    "        name='Etanol'\n",
    "    ),\n",
    "    go.Scatter(\n",
    "        x=gnv_defl['MES'], # assign x as the dataframe column 'x'\n",
    "        y=gnv_defl['PRECO_MEDIO_REVENDA'],\n",
    "        name='GNV'\n",
    "    )\n",
    "]\n",
    "\n",
    "#\n",
    "layout_nDefl = go.Layout(\n",
    "    title='Preço Médio Nacional de Revenda de Combustíveis. Sem Correção para Inflação',\n",
    "    yaxis=dict(title='Preço (R$)'),\n",
    "    xaxis=dict(title='Data')\n",
    ")\n",
    "\n",
    "#\n",
    "fig_nDefl = go.Figure(data = data_nDefl, layout = layout_nDefl)\n",
    "\n",
    "#\n",
    "py.iplot(fig_nDefl, filename='line-plot-title_nDefl')"
   ]
  },
  {
   "cell_type": "markdown",
   "metadata": {},
   "source": [
    "-----"
   ]
  },
  {
   "cell_type": "code",
   "execution_count": null,
   "metadata": {},
   "outputs": [],
   "source": [
    "##\n",
    "gas = df[df.PRODUTO == 'GASOLINA']\n",
    "diesel = df[df.PRODUTO == 'OLEO_DIESEL']\n",
    "etanol = df[df.PRODUTO == 'ETANOL_HIDRATADO']\n",
    "gnv = df[df.PRODUTO == 'GNV']\n",
    "\n",
    "data = [\n",
    "    go.Scatter(\n",
    "        x=gas['MES'], # assign x as the dataframe column 'x'\n",
    "        y=gas['PRECO_MEDIO_REVENDA_DEFLACIONADO'],\n",
    "        name='Gasolina'\n",
    "    ),\n",
    "    go.Scatter(\n",
    "        x=diesel['MES'], # assign x as the dataframe column 'x'\n",
    "        y=diesel['PRECO_MEDIO_REVENDA_DEFLACIONADO'],\n",
    "        name='Diesel'\n",
    "    ),\n",
    "    go.Scatter(\n",
    "        x=etanol['MES'], # assign x as the dataframe column 'x'\n",
    "        y=etanol['PRECO_MEDIO_REVENDA_DEFLACIONADO'],\n",
    "        name='Etanol'\n",
    "    ),\n",
    "    go.Scatter(\n",
    "        x=gnv['MES'], # assign x as the dataframe column 'x'\n",
    "        y=gnv['PRECO_MEDIO_REVENDA_DEFLACIONADO'],\n",
    "        name='GNV'\n",
    "    )\n",
    "]\n",
    "\n",
    "#\n",
    "layout = go.Layout(\n",
    "    title='Preço Médio Nacional de Revenda de Combustíveis. Inflação do Período Corrigida para pelo IGP-M para data de ___/___/___',\n",
    "    yaxis=dict(title='Preço (R$)'),\n",
    "    xaxis=dict(title='Data')\n",
    ")\n",
    "\n",
    "#\n",
    "fig = go.Figure(data=data, layout=layout)\n",
    "\n",
    "#\n",
    "py.iplot(fig, filename='line-plot-title')"
   ]
  },
  {
   "cell_type": "markdown",
   "metadata": {},
   "source": [
    "----"
   ]
  },
  {
   "cell_type": "code",
   "execution_count": 44,
   "metadata": {
    "scrolled": false,
    "slideshow": {
     "slide_type": "notes"
    }
   },
   "outputs": [],
   "source": [
    "#\n",
    "# etanol_series = pd.Series(df[df.PRODUTO == 'ETANOL_HIDRATADO'].PRECO_MEDIO_REVENDA_DEFLACIONADO)\n",
    "# tmp = sm.tsa.stattools.acf(etanol_series, nlags=200)\n",
    "# auto_corr_etanol = np.array(tmp)]\n",
    "# #\n",
    "# gasolina_series = pd.Series(df[df.PRODUTO == 'GASOLINA'].PRECO_MEDIO_REVENDA_DEFLACIONADO)\n",
    "# tmp2 = sm.tsa.stattools.acf(gasolina_series, nlags=200)\n",
    "# auto_corr_gasolina = np.array(tmp2)"
   ]
  },
  {
   "cell_type": "code",
   "execution_count": 76,
   "metadata": {},
   "outputs": [
    {
     "data": {
      "text/html": [
       "<iframe id=\"igraph\" scrolling=\"no\" style=\"border:none;\" seamless=\"seamless\" src=\"https://plot.ly/~moraesje/29.embed\" height=\"525px\" width=\"100%\"></iframe>"
      ],
      "text/plain": [
       "<plotly.tools.PlotlyDisplay object>"
      ]
     },
     "execution_count": 76,
     "metadata": {},
     "output_type": "execute_result"
    }
   ],
   "source": [
    "#\n",
    "nLAGS = 200\n",
    "#\n",
    "etanol_series_autocorr_fuels_no_monetary_correction = pd.Series(df[df.PRODUTO == 'ETANOL_HIDRATADO'].PRECO_MEDIO_REVENDA)\n",
    "tmp_autocorr_fuels_no_monetary_correction = sm.tsa.stattools.acf(etanol_series_autocorr_fuels_no_monetary_correction, nlags=nLAGS)\n",
    "auto_corr_etanol_autocorr_fuels_no_monetary_correction = np.array(tmp_autocorr_fuels_no_monetary_correction)\n",
    "#\n",
    "\n",
    "gasolina_series_autocorr_fuels_no_monetary_correction = pd.Series(df[df.PRODUTO == 'GASOLINA'].PRECO_MEDIO_REVENDA)\n",
    "tmp2_autocorr_fuels_no_monetary_correction = sm.tsa.stattools.acf(gasolina_series_autocorr_fuels_no_monetary_correction, nlags=nLAGS)\n",
    "auto_corr_gasolina_autocorr_fuels_no_monetary_correction = np.array(tmp2_autocorr_fuels_no_monetary_correction)\n",
    "\n",
    "\n",
    "#\n",
    "diesel_series_autocorr_fuels_no_monetary_correction = pd.Series(df[df.PRODUTO == 'OLEO_DIESEL'].PRECO_MEDIO_REVENDA)\n",
    "tmp3_autocorr_fuels_no_monetary_correction = sm.tsa.stattools.acf(diesel_series_autocorr_fuels_no_monetary_correction, nlags=nLAGS)\n",
    "auto_corr_diesel_autocorr_fuels_no_monetary_correction = np.array(tmp3_autocorr_fuels_no_monetary_correction)\n",
    "\n",
    "\n",
    "#\n",
    "data_auto_corr_fuels_no_monetary_correction = [\n",
    "    go.Scatter(\n",
    "        x = np.linspace(0, 1, auto_corr_etanol.size),\n",
    "        y = auto_corr_etanol_autocorr_fuels_no_monetary_correction,\n",
    "        name = 'Etanol'\n",
    "    ),\n",
    "    go.Scatter(\n",
    "        x = np.linspace(0, 1, auto_corr_gasolina.size),\n",
    "        y = auto_corr_gasolina_autocorr_fuels_no_monetary_correction,\n",
    "        name = 'Gasolina'\n",
    "    ),\n",
    "    go.Scatter(\n",
    "        x = np.linspace(0, 1, auto_corr_gasolina.size),\n",
    "        y = auto_corr_diesel_autocorr_fuels_no_monetary_correction,\n",
    "        name = 'Diesel'\n",
    "    )\n",
    "    \n",
    "]\n",
    "\n",
    "#\n",
    "layout_autocorr_fuels_no_monetary_correction = go.Layout(\n",
    "    title='AUTOCORRELATION FUNCTION FOR BRAZILIAN FUELS TIME SERIES. NO DEFLATIOIN APPLIED',\n",
    "    yaxis=dict(title='AUTORRELATION INDEX'),\n",
    "    xaxis=dict(title='LAG')\n",
    ")\n",
    "\n",
    "fig_autocorr_fuels_no_monetary_correction = go.Figure(data = data_auto_corr_fuels_no_monetary_correction, layout = layout_autocorr_fuels_no_monetary_correction)\n",
    "py.iplot(fig_autocorr_fuels_no_monetary_correction, filename='file_autocorr_fuels_no_monetary_correction')"
   ]
  },
  {
   "cell_type": "code",
   "execution_count": 77,
   "metadata": {
    "scrolled": false,
    "slideshow": {
     "slide_type": "notes"
    }
   },
   "outputs": [
    {
     "data": {
      "text/html": [
       "<iframe id=\"igraph\" scrolling=\"no\" style=\"border:none;\" seamless=\"seamless\" src=\"https://plot.ly/~moraesje/31.embed\" height=\"525px\" width=\"100%\"></iframe>"
      ],
      "text/plain": [
       "<plotly.tools.PlotlyDisplay object>"
      ]
     },
     "execution_count": 77,
     "metadata": {},
     "output_type": "execute_result"
    }
   ],
   "source": [
    "#\n",
    "nLAGS = 200\n",
    "#\n",
    "etanol_series = pd.Series(df[df.PRODUTO == 'ETANOL_HIDRATADO'].PRECO_MEDIO_REVENDA_DEFLACIONADO)\n",
    "tmp = sm.tsa.stattools.acf(etanol_series, nlags=nLAGS)\n",
    "auto_corr_etanol = np.array(tmp)\n",
    "#\n",
    "\n",
    "gasolina_series = pd.Series(df[df.PRODUTO == 'GASOLINA'].PRECO_MEDIO_REVENDA_DEFLACIONADO)\n",
    "tmp2 = sm.tsa.stattools.acf(gasolina_series, nlags=nLAGS)\n",
    "auto_corr_gasolina = np.array(tmp2)\n",
    "\n",
    "\n",
    "#\n",
    "diesel_series = pd.Series(df[df.PRODUTO == 'OLEO_DIESEL'].PRECO_MEDIO_REVENDA_DEFLACIONADO)\n",
    "tmp3 = sm.tsa.stattools.acf(diesel_series, nlags=nLAGS)\n",
    "auto_corr_diesel = np.array(tmp3)\n",
    "\n",
    "\n",
    "#\n",
    "data_auto_corr = [\n",
    "    go.Scatter(\n",
    "        x = np.linspace(0, 1, auto_corr_etanol.size),\n",
    "        y = auto_corr_etanol,\n",
    "        name = 'Etanol'\n",
    "    ),\n",
    "    go.Scatter(\n",
    "        x = np.linspace(0, 1, auto_corr_gasolina.size),\n",
    "        y = auto_corr_gasolina,\n",
    "        name = 'Gasolina'\n",
    "    ),\n",
    "    go.Scatter(\n",
    "        x = np.linspace(0, 1, auto_corr_gasolina.size),\n",
    "        y = auto_corr_diesel,\n",
    "        name = 'Diesel'\n",
    "    )\n",
    "    \n",
    "]\n",
    "\n",
    "#\n",
    "layout = go.Layout(\n",
    "    title='AUTOCORRELATION FUNCTION FOR BRAZILIAN FUELS TIME SERIES',\n",
    "    yaxis=dict(title='AUTORRELATION INDEX'),\n",
    "    xaxis=dict(title='LAG')\n",
    ")\n",
    "\n",
    "fig = go.Figure(data=data_auto_corr, layout=layout)\n",
    "py.iplot(fig, filename='file_autocorr_fuels_igp_m_monetary_correction')"
   ]
  },
  {
   "cell_type": "code",
   "execution_count": 16,
   "metadata": {},
   "outputs": [],
   "source": [
    "# pd.plotting.autocorrelation_plot(serie_etanol);\n",
    "# pd.plotting.autocorrelation_plot(gaso);\n",
    "# pd.plotting.autocorrelation_plot(diesilo);"
   ]
  }
 ],
 "metadata": {
  "kernelspec": {
   "display_name": "Python 3",
   "language": "python",
   "name": "python3"
  },
  "language_info": {
   "codemirror_mode": {
    "name": "ipython",
    "version": 3
   },
   "file_extension": ".py",
   "mimetype": "text/x-python",
   "name": "python",
   "nbconvert_exporter": "python",
   "pygments_lexer": "ipython3",
   "version": "3.6.5"
  }
 },
 "nbformat": 4,
 "nbformat_minor": 2
}
