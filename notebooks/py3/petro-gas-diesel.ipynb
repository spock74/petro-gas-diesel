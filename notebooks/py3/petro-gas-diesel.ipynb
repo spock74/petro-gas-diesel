{
 "cells": [
  {
   "cell_type": "markdown",
   "metadata": {},
   "source": [
    "# Análise da evolução dos preços de conbustíveis automotivos no Brasil de _07/2001_ até _04/2018_"
   ]
  },
  {
   "cell_type": "markdown",
   "metadata": {},
   "source": [
    "## José Elvano Moraes"
   ]
  },
  {
   "cell_type": "markdown",
   "metadata": {},
   "source": [
    "> Trabalho em estágio muito precoce. Fontes de dados serão descritas (Banco central do Brasil, Quandl (quandl.com), dentre outtros, assim como seráo incluído os scripts para aquisição automatizada e preparação dos dados. __Os (poucos) gráficos `ainda` estão sem explicações__ "
   ]
  },
  {
   "cell_type": "markdown",
   "metadata": {},
   "source": [
    "-----"
   ]
  },
  {
   "cell_type": "code",
   "execution_count": null,
   "metadata": {},
   "outputs": [],
   "source": []
  },
  {
   "cell_type": "code",
   "execution_count": 1,
   "metadata": {},
   "outputs": [],
   "source": [
    "import numpy as np\n",
    "import pandas as pd\n",
    "from pandas import Series\n",
    "import statsmodels.api as sm\n",
    "import quandl\n",
    "import plotly.plotly as py\n",
    "import plotly.graph_objs as go\n",
    "import plotly.figure_factory as ff"
   ]
  },
  {
   "cell_type": "code",
   "execution_count": 2,
   "metadata": {},
   "outputs": [],
   "source": [
    "df = pd.read_csv('./serie_deflacionada_igpm.csv')"
   ]
  },
  {
   "cell_type": "code",
   "execution_count": 3,
   "metadata": {},
   "outputs": [
    {
     "data": {
      "text/html": [
       "<div>\n",
       "<style scoped>\n",
       "    .dataframe tbody tr th:only-of-type {\n",
       "        vertical-align: middle;\n",
       "    }\n",
       "\n",
       "    .dataframe tbody tr th {\n",
       "        vertical-align: top;\n",
       "    }\n",
       "\n",
       "    .dataframe thead th {\n",
       "        text-align: right;\n",
       "    }\n",
       "</style>\n",
       "<table border=\"1\" class=\"dataframe\">\n",
       "  <thead>\n",
       "    <tr style=\"text-align: right;\">\n",
       "      <th></th>\n",
       "      <th>MES</th>\n",
       "      <th>PRODUTO</th>\n",
       "      <th>NUMERO_DE_POSTOS_PESQUISADOS</th>\n",
       "      <th>UNIDADE_DE_MEDIDA</th>\n",
       "      <th>PRECO_MEDIO_REVENDA</th>\n",
       "      <th>DESVIO_PADRAO_REVENDA</th>\n",
       "      <th>PRECO_MINIMO_REVENDA</th>\n",
       "      <th>PRECO_MAXIMO_REVENDA</th>\n",
       "      <th>MARGEM_MEDIA_REVENDA</th>\n",
       "      <th>COEF_DE_VARIACAO_REVENDA</th>\n",
       "      <th>PRECO_MEDIO_DISTRIBUICAO</th>\n",
       "      <th>DESVIO_PADRAO_DISTRIBUICAO</th>\n",
       "      <th>PRECO_MINIMO_DISTRIBUICAO</th>\n",
       "      <th>PRECO_MAXIMO_DISTRIBUICAO</th>\n",
       "      <th>COEF_DE_VARIACAO_DISTRIBUICAO</th>\n",
       "      <th>PRECO_MEDIO_REVENDA_DEFLACIONADO</th>\n",
       "    </tr>\n",
       "  </thead>\n",
       "  <tbody>\n",
       "    <tr>\n",
       "      <th>1</th>\n",
       "      <td>2001-07-31</td>\n",
       "      <td>GASOLINA</td>\n",
       "      <td>18708</td>\n",
       "      <td>R$/l</td>\n",
       "      <td>1.681</td>\n",
       "      <td>0.099</td>\n",
       "      <td>1.379</td>\n",
       "      <td>2.00</td>\n",
       "      <td>0.214</td>\n",
       "      <td>0.059</td>\n",
       "      <td>1.467</td>\n",
       "      <td>0.076</td>\n",
       "      <td>0.895</td>\n",
       "      <td>1.791</td>\n",
       "      <td>0.052</td>\n",
       "      <td>5.545614</td>\n",
       "    </tr>\n",
       "    <tr>\n",
       "      <th>2</th>\n",
       "      <td>2001-08-31</td>\n",
       "      <td>GASOLINA</td>\n",
       "      <td>29950</td>\n",
       "      <td>R$/l</td>\n",
       "      <td>1.711</td>\n",
       "      <td>0.092</td>\n",
       "      <td>1.440</td>\n",
       "      <td>2.38</td>\n",
       "      <td>0.207</td>\n",
       "      <td>0.054</td>\n",
       "      <td>1.504</td>\n",
       "      <td>0.052</td>\n",
       "      <td>1.023</td>\n",
       "      <td>1.750</td>\n",
       "      <td>0.034</td>\n",
       "      <td>5.308302</td>\n",
       "    </tr>\n",
       "    <tr>\n",
       "      <th>3</th>\n",
       "      <td>2001-09-30</td>\n",
       "      <td>GASOLINA</td>\n",
       "      <td>34530</td>\n",
       "      <td>R$/l</td>\n",
       "      <td>1.718</td>\n",
       "      <td>0.100</td>\n",
       "      <td>1.430</td>\n",
       "      <td>2.38</td>\n",
       "      <td>0.214</td>\n",
       "      <td>0.058</td>\n",
       "      <td>1.504</td>\n",
       "      <td>0.054</td>\n",
       "      <td>1.009</td>\n",
       "      <td>1.821</td>\n",
       "      <td>0.036</td>\n",
       "      <td>5.288426</td>\n",
       "    </tr>\n",
       "    <tr>\n",
       "      <th>4</th>\n",
       "      <td>2001-10-31</td>\n",
       "      <td>GASOLINA</td>\n",
       "      <td>44072</td>\n",
       "      <td>R$/l</td>\n",
       "      <td>1.779</td>\n",
       "      <td>0.105</td>\n",
       "      <td>1.410</td>\n",
       "      <td>2.48</td>\n",
       "      <td>0.242</td>\n",
       "      <td>0.059</td>\n",
       "      <td>1.537</td>\n",
       "      <td>0.062</td>\n",
       "      <td>1.023</td>\n",
       "      <td>1.868</td>\n",
       "      <td>0.041</td>\n",
       "      <td>5.466524</td>\n",
       "    </tr>\n",
       "    <tr>\n",
       "      <th>5</th>\n",
       "      <td>2001-11-30</td>\n",
       "      <td>GASOLINA</td>\n",
       "      <td>36267</td>\n",
       "      <td>R$/l</td>\n",
       "      <td>1.780</td>\n",
       "      <td>0.106</td>\n",
       "      <td>1.440</td>\n",
       "      <td>2.45</td>\n",
       "      <td>0.229</td>\n",
       "      <td>0.059</td>\n",
       "      <td>1.552</td>\n",
       "      <td>0.061</td>\n",
       "      <td>1.080</td>\n",
       "      <td>1.910</td>\n",
       "      <td>0.039</td>\n",
       "      <td>5.432747</td>\n",
       "    </tr>\n",
       "  </tbody>\n",
       "</table>\n",
       "</div>"
      ],
      "text/plain": [
       "          MES   PRODUTO  NUMERO_DE_POSTOS_PESQUISADOS UNIDADE_DE_MEDIDA  \\\n",
       "1  2001-07-31  GASOLINA                         18708              R$/l   \n",
       "2  2001-08-31  GASOLINA                         29950              R$/l   \n",
       "3  2001-09-30  GASOLINA                         34530              R$/l   \n",
       "4  2001-10-31  GASOLINA                         44072              R$/l   \n",
       "5  2001-11-30  GASOLINA                         36267              R$/l   \n",
       "\n",
       "   PRECO_MEDIO_REVENDA  DESVIO_PADRAO_REVENDA  PRECO_MINIMO_REVENDA  \\\n",
       "1                1.681                  0.099                 1.379   \n",
       "2                1.711                  0.092                 1.440   \n",
       "3                1.718                  0.100                 1.430   \n",
       "4                1.779                  0.105                 1.410   \n",
       "5                1.780                  0.106                 1.440   \n",
       "\n",
       "   PRECO_MAXIMO_REVENDA  MARGEM_MEDIA_REVENDA  COEF_DE_VARIACAO_REVENDA  \\\n",
       "1                  2.00                 0.214                     0.059   \n",
       "2                  2.38                 0.207                     0.054   \n",
       "3                  2.38                 0.214                     0.058   \n",
       "4                  2.48                 0.242                     0.059   \n",
       "5                  2.45                 0.229                     0.059   \n",
       "\n",
       "   PRECO_MEDIO_DISTRIBUICAO  DESVIO_PADRAO_DISTRIBUICAO  \\\n",
       "1                     1.467                       0.076   \n",
       "2                     1.504                       0.052   \n",
       "3                     1.504                       0.054   \n",
       "4                     1.537                       0.062   \n",
       "5                     1.552                       0.061   \n",
       "\n",
       "   PRECO_MINIMO_DISTRIBUICAO  PRECO_MAXIMO_DISTRIBUICAO  \\\n",
       "1                      0.895                      1.791   \n",
       "2                      1.023                      1.750   \n",
       "3                      1.009                      1.821   \n",
       "4                      1.023                      1.868   \n",
       "5                      1.080                      1.910   \n",
       "\n",
       "   COEF_DE_VARIACAO_DISTRIBUICAO  PRECO_MEDIO_REVENDA_DEFLACIONADO  \n",
       "1                          0.052                          5.545614  \n",
       "2                          0.034                          5.308302  \n",
       "3                          0.036                          5.288426  \n",
       "4                          0.041                          5.466524  \n",
       "5                          0.039                          5.432747  "
      ]
     },
     "execution_count": 3,
     "metadata": {},
     "output_type": "execute_result"
    }
   ],
   "source": [
    "df.head()"
   ]
  },
  {
   "cell_type": "code",
   "execution_count": 4,
   "metadata": {},
   "outputs": [],
   "source": [
    "presidentes = pd.read_csv('../presidentes/presidentes.csv')\n",
    "cafe_usd = pd.read_csv('../CEPEA-COFFEE_A.csv')\n",
    "cafe_usd = pd.read_csv('../CEPEA-COFFEE_A.csv')"
   ]
  },
  {
   "cell_type": "code",
   "execution_count": 5,
   "metadata": {},
   "outputs": [],
   "source": []
  },
  {
   "cell_type": "code",
   "execution_count": 6,
   "metadata": {},
   "outputs": [],
   "source": [
    "indices_economicos_br = pd.read_csv('../STI-20180617152617216.csv', sep=';')"
   ]
  },
  {
   "cell_type": "code",
   "execution_count": 23,
   "metadata": {},
   "outputs": [
    {
     "data": {
      "text/html": [
       "<iframe id=\"igraph\" scrolling=\"no\" style=\"border:none;\" seamless=\"seamless\" src=\"https://plot.ly/~moraesje/21.embed\" height=\"525px\" width=\"100%\"></iframe>"
      ],
      "text/plain": [
       "<plotly.tools.PlotlyDisplay object>"
      ]
     },
     "execution_count": 23,
     "metadata": {},
     "output_type": "execute_result"
    }
   ],
   "source": [
    "data_idx_econ_br = [\n",
    "    go.Scatter(\n",
    "        x=indices_economicos_br['DATE'], # assign x as the dataframe column 'x'\n",
    "        y=indices_economicos_br['27574 - COMMODITY INDEX - BRAZIL - INDEX'],\n",
    "        name='Index'\n",
    "    ),\n",
    "    go.Scatter(\n",
    "        x=indices_economicos_br['DATE'], # assign x as the dataframe column 'x'\n",
    "        y=indices_economicos_br['27575 - COMMODITY INDEX - BRAZIL - AGRICULTURE - INDEX'],\n",
    "        name='Agricultura'\n",
    "    ),\n",
    "    go.Scatter(\n",
    "        x=indices_economicos_br['DATE'], # assign x as the dataframe column 'x'\n",
    "        y=indices_economicos_br['27576 - COMMODITY INDEX - BRAZIL - METAL - INDEX'],\n",
    "        name='Metal'\n",
    "    ),\n",
    "    go.Scatter(\n",
    "        x=indices_economicos_br['DATE'], # assign x as the dataframe column 'x'\n",
    "        y=indices_economicos_br['27577 - COMMODITY INDEX - BRAZIL - ENERGY - INDEX'],\n",
    "        name='Energia'\n",
    "    )\n",
    "]\n",
    "\n",
    "layout = go.Layout(\n",
    "    title='Brazilian economic commodity Index',\n",
    "    yaxis=dict(title='Preço (Falta unidades)'),\n",
    "    xaxis=dict(title='Data')\n",
    ")\n",
    "\n",
    "fig = go.Figure(data=data_idx_econ_br, layout=layout)\n",
    "py.iplot(fig, filename='file_data_idx_econ_br')"
   ]
  },
  {
   "cell_type": "markdown",
   "metadata": {},
   "source": [
    "-------"
   ]
  },
  {
   "cell_type": "code",
   "execution_count": 8,
   "metadata": {},
   "outputs": [
    {
     "data": {
      "text/html": [
       "<iframe id=\"igraph\" scrolling=\"no\" style=\"border:none;\" seamless=\"seamless\" src=\"https://plot.ly/~moraesje/27.embed\" height=\"525px\" width=\"100%\"></iframe>"
      ],
      "text/plain": [
       "<plotly.tools.PlotlyDisplay object>"
      ]
     },
     "execution_count": 8,
     "metadata": {},
     "output_type": "execute_result"
    }
   ],
   "source": [
    "##\n",
    "gas_defl = df[df.PRODUTO == 'GASOLINA']\n",
    "diesel_defl = df[df.PRODUTO == 'OLEO_DIESEL']\n",
    "etanol_defl = df[df.PRODUTO == 'ETANOL_HIDRATADO']\n",
    "gnv_defl = df[df.PRODUTO == 'GNV']\n",
    "\n",
    "data_nDefl = [\n",
    "    go.Scatter(\n",
    "        x=gas_defl['MES'], # assign x as the dataframe column 'x'\n",
    "        y=gas_defl['PRECO_MEDIO_REVENDA'],\n",
    "        name='Gasolina'\n",
    "    ),\n",
    "    go.Scatter(\n",
    "        x=diesel_defl['MES'], # assign x as the dataframe column 'x'\n",
    "        y=diesel_defl['PRECO_MEDIO_REVENDA'],\n",
    "        name='Diesel'\n",
    "    ),\n",
    "    go.Scatter(\n",
    "        x=etanol_defl['MES'], # assign x as the dataframe column 'x'\n",
    "        y=etanol_defl['PRECO_MEDIO_REVENDA'],\n",
    "        name='Etanol'\n",
    "    ),\n",
    "    go.Scatter(\n",
    "        x=gnv_defl['MES'], # assign x as the dataframe column 'x'\n",
    "        y=gnv_defl['PRECO_MEDIO_REVENDA'],\n",
    "        name='GNV'\n",
    "    )\n",
    "]\n",
    "\n",
    "#\n",
    "layout_nDefl = go.Layout(\n",
    "    title='Preço Médio Nacional de Revenda de Combustíveis. Sem Correção para Inflação',\n",
    "    yaxis=dict(title='Preço (R$)'),\n",
    "    xaxis=dict(title='Data')\n",
    ")\n",
    "\n",
    "#\n",
    "fig_nDefl = go.Figure(data = data_nDefl, layout = layout_nDefl)\n",
    "\n",
    "#\n",
    "py.iplot(fig_nDefl, filename='line-plot-title_nDefl')"
   ]
  },
  {
   "cell_type": "code",
   "execution_count": null,
   "metadata": {},
   "outputs": [],
   "source": []
  },
  {
   "cell_type": "markdown",
   "metadata": {},
   "source": [
    "## Evolução de ativos como GOOGLE, FACEBOOK, AMAZON"
   ]
  },
  {
   "cell_type": "code",
   "execution_count": 26,
   "metadata": {},
   "outputs": [],
   "source": [
    "GOOG = pd.read_csv('../stocks/GOOG.csv')\n",
    "AAPL = pd.read_csv('../stocks/AAPL.csv')\n",
    "NFLX = pd.read_csv('../stocks/NFLX.csv')\n",
    "AMZN = pd.read_csv('../stocks/AMZN.csv')"
   ]
  },
  {
   "cell_type": "code",
   "execution_count": 32,
   "metadata": {},
   "outputs": [
    {
     "data": {
      "text/html": [
       "<div>\n",
       "<style scoped>\n",
       "    .dataframe tbody tr th:only-of-type {\n",
       "        vertical-align: middle;\n",
       "    }\n",
       "\n",
       "    .dataframe tbody tr th {\n",
       "        vertical-align: top;\n",
       "    }\n",
       "\n",
       "    .dataframe thead th {\n",
       "        text-align: right;\n",
       "    }\n",
       "</style>\n",
       "<table border=\"1\" class=\"dataframe\">\n",
       "  <thead>\n",
       "    <tr style=\"text-align: right;\">\n",
       "      <th></th>\n",
       "      <th>DATE</th>\n",
       "      <th>OPEN</th>\n",
       "      <th>HIGH</th>\n",
       "      <th>LOW</th>\n",
       "      <th>CLOSE</th>\n",
       "      <th>ADJ_CLOSE</th>\n",
       "      <th>VOLUME</th>\n",
       "    </tr>\n",
       "  </thead>\n",
       "  <tbody>\n",
       "    <tr>\n",
       "      <th>162</th>\n",
       "      <td>2018-02-01</td>\n",
       "      <td>1162.609985</td>\n",
       "      <td>1174.000000</td>\n",
       "      <td>992.559998</td>\n",
       "      <td>1104.729980</td>\n",
       "      <td>1104.729980</td>\n",
       "      <td>42384100</td>\n",
       "    </tr>\n",
       "    <tr>\n",
       "      <th>163</th>\n",
       "      <td>2018-03-01</td>\n",
       "      <td>1107.869995</td>\n",
       "      <td>1177.050049</td>\n",
       "      <td>980.640015</td>\n",
       "      <td>1031.790039</td>\n",
       "      <td>1031.790039</td>\n",
       "      <td>45353300</td>\n",
       "    </tr>\n",
       "    <tr>\n",
       "      <th>164</th>\n",
       "      <td>2018-04-01</td>\n",
       "      <td>1022.820007</td>\n",
       "      <td>1094.165039</td>\n",
       "      <td>990.369995</td>\n",
       "      <td>1017.330017</td>\n",
       "      <td>1017.330017</td>\n",
       "      <td>41715900</td>\n",
       "    </tr>\n",
       "    <tr>\n",
       "      <th>165</th>\n",
       "      <td>2018-05-01</td>\n",
       "      <td>1013.659973</td>\n",
       "      <td>1110.750000</td>\n",
       "      <td>1006.289978</td>\n",
       "      <td>1084.989990</td>\n",
       "      <td>1084.989990</td>\n",
       "      <td>31800500</td>\n",
       "    </tr>\n",
       "    <tr>\n",
       "      <th>166</th>\n",
       "      <td>2018-06-01</td>\n",
       "      <td>1099.349976</td>\n",
       "      <td>1155.469971</td>\n",
       "      <td>1098.500000</td>\n",
       "      <td>1152.260010</td>\n",
       "      <td>1152.260010</td>\n",
       "      <td>17434900</td>\n",
       "    </tr>\n",
       "  </tbody>\n",
       "</table>\n",
       "</div>"
      ],
      "text/plain": [
       "           DATE         OPEN         HIGH          LOW        CLOSE  \\\n",
       "162  2018-02-01  1162.609985  1174.000000   992.559998  1104.729980   \n",
       "163  2018-03-01  1107.869995  1177.050049   980.640015  1031.790039   \n",
       "164  2018-04-01  1022.820007  1094.165039   990.369995  1017.330017   \n",
       "165  2018-05-01  1013.659973  1110.750000  1006.289978  1084.989990   \n",
       "166  2018-06-01  1099.349976  1155.469971  1098.500000  1152.260010   \n",
       "\n",
       "       ADJ_CLOSE    VOLUME  \n",
       "162  1104.729980  42384100  \n",
       "163  1031.790039  45353300  \n",
       "164  1017.330017  41715900  \n",
       "165  1084.989990  31800500  \n",
       "166  1152.260010  17434900  "
      ]
     },
     "execution_count": 32,
     "metadata": {},
     "output_type": "execute_result"
    }
   ],
   "source": [
    "GOOG.tail()"
   ]
  },
  {
   "cell_type": "code",
   "execution_count": null,
   "metadata": {},
   "outputs": [],
   "source": [
    "##\n",
    "gas_defl = df[df.PRODUTO == 'GASOLINA']\n",
    "\n",
    "data_nDefl = [\n",
    "    go.Scatter(\n",
    "        x=gas_defl['MES'], # assign x as the dataframe column 'x'\n",
    "        y=gas_defl['PRECO_MEDIO_REVENDA'],\n",
    "        name='Gasolina'\n",
    "    ),\n",
    "    go.Scatter(\n",
    "        x=diesel_defl['MES'], # assign x as the dataframe column 'x'\n",
    "        y=diesel_defl['PRECO_MEDIO_REVENDA'],\n",
    "        name='Diesel'\n",
    "    ),\n",
    "    go.Scatter(\n",
    "        x=etanol_defl['MES'], # assign x as the dataframe column 'x'\n",
    "        y=etanol_defl['PRECO_MEDIO_REVENDA'],\n",
    "        name='Etanol'\n",
    "    ),\n",
    "    go.Scatter(\n",
    "        x=gnv_defl['MES'], # assign x as the dataframe column 'x'\n",
    "        y=gnv_defl['PRECO_MEDIO_REVENDA'],\n",
    "        name='GNV'\n",
    "    )\n",
    "]\n",
    "\n",
    "#\n",
    "layout_nDefl = go.Layout(\n",
    "    title='Preço Médio Nacional de Revenda de Combustíveis. Sem Correção para Inflação',\n",
    "    yaxis=dict(title='Preço (R$)'),\n",
    "    xaxis=dict(title='Data')\n",
    ")\n",
    "\n",
    "#\n",
    "fig_nDefl = go.Figure(data = data_nDefl, layout = layout_nDefl)\n",
    "\n",
    "#\n",
    "py.iplot(fig_nDefl, filename='line-plot-title_nDefl')"
   ]
  },
  {
   "cell_type": "code",
   "execution_count": null,
   "metadata": {},
   "outputs": [],
   "source": []
  },
  {
   "cell_type": "code",
   "execution_count": null,
   "metadata": {},
   "outputs": [],
   "source": []
  },
  {
   "cell_type": "markdown",
   "metadata": {},
   "source": [
    "-----"
   ]
  },
  {
   "cell_type": "code",
   "execution_count": 9,
   "metadata": {},
   "outputs": [
    {
     "data": {
      "text/html": [
       "<iframe id=\"igraph\" scrolling=\"no\" style=\"border:none;\" seamless=\"seamless\" src=\"https://plot.ly/~moraesje/15.embed\" height=\"525px\" width=\"100%\"></iframe>"
      ],
      "text/plain": [
       "<plotly.tools.PlotlyDisplay object>"
      ]
     },
     "execution_count": 9,
     "metadata": {},
     "output_type": "execute_result"
    }
   ],
   "source": [
    "##\n",
    "gas = df[df.PRODUTO == 'GASOLINA']\n",
    "diesel = df[df.PRODUTO == 'OLEO_DIESEL']\n",
    "etanol = df[df.PRODUTO == 'ETANOL_HIDRATADO']\n",
    "gnv = df[df.PRODUTO == 'GNV']\n",
    "\n",
    "data = [\n",
    "    go.Scatter(\n",
    "        x=gas['MES'], # assign x as the dataframe column 'x'\n",
    "        y=gas['PRECO_MEDIO_REVENDA_DEFLACIONADO'],\n",
    "        name='Gasolina'\n",
    "    ),\n",
    "    go.Scatter(\n",
    "        x=diesel['MES'], # assign x as the dataframe column 'x'\n",
    "        y=diesel['PRECO_MEDIO_REVENDA_DEFLACIONADO'],\n",
    "        name='Diesel'\n",
    "    ),\n",
    "    go.Scatter(\n",
    "        x=etanol['MES'], # assign x as the dataframe column 'x'\n",
    "        y=etanol['PRECO_MEDIO_REVENDA_DEFLACIONADO'],\n",
    "        name='Etanol'\n",
    "    ),\n",
    "    go.Scatter(\n",
    "        x=gnv['MES'], # assign x as the dataframe column 'x'\n",
    "        y=gnv['PRECO_MEDIO_REVENDA_DEFLACIONADO'],\n",
    "        name='GNV'\n",
    "    )\n",
    "]\n",
    "\n",
    "#\n",
    "layout = go.Layout(\n",
    "    title='Preço Médio Nacional de Revenda de Combustíveis. Inflação do Período Corrigida pelo Índice IGP-M para data de ___/___/___',\n",
    "    yaxis=dict(title='Preço (R$)'),\n",
    "    xaxis=dict(title='Data')\n",
    ")\n",
    "\n",
    "#\n",
    "fig = go.Figure(data=data, layout=layout)\n",
    "\n",
    "#\n",
    "py.iplot(fig, filename='line-plot-title')"
   ]
  },
  {
   "cell_type": "markdown",
   "metadata": {},
   "source": [
    "----"
   ]
  },
  {
   "cell_type": "code",
   "execution_count": 10,
   "metadata": {
    "scrolled": false,
    "slideshow": {
     "slide_type": "notes"
    }
   },
   "outputs": [],
   "source": [
    "#\n",
    "# etanol_series = pd.Series(df[df.PRODUTO == 'ETANOL_HIDRATADO'].PRECO_MEDIO_REVENDA_DEFLACIONADO)\n",
    "# tmp = sm.tsa.stattools.acf(etanol_series, nlags=200)\n",
    "# auto_corr_etanol = np.array(tmp)]\n",
    "# #\n",
    "# gasolina_series = pd.Series(df[df.PRODUTO == 'GASOLINA'].PRECO_MEDIO_REVENDA_DEFLACIONADO)\n",
    "# tmp2 = sm.tsa.stattools.acf(gasolina_series, nlags=200)\n",
    "# auto_corr_gasolina = np.array(tmp2)"
   ]
  },
  {
   "cell_type": "code",
   "execution_count": 11,
   "metadata": {},
   "outputs": [
    {
     "data": {
      "text/html": [
       "<iframe id=\"igraph\" scrolling=\"no\" style=\"border:none;\" seamless=\"seamless\" src=\"https://plot.ly/~moraesje/29.embed\" height=\"525px\" width=\"100%\"></iframe>"
      ],
      "text/plain": [
       "<plotly.tools.PlotlyDisplay object>"
      ]
     },
     "execution_count": 11,
     "metadata": {},
     "output_type": "execute_result"
    }
   ],
   "source": [
    "#\n",
    "nLAGS = 200\n",
    "#\n",
    "etanol_series_autocorr_fuels_no_monetary_correction = pd.Series(df[df.PRODUTO == 'ETANOL_HIDRATADO'].PRECO_MEDIO_REVENDA)\n",
    "tmp_autocorr_fuels_no_monetary_correction = sm.tsa.stattools.acf(etanol_series_autocorr_fuels_no_monetary_correction, nlags=nLAGS)\n",
    "auto_corr_etanol_autocorr_fuels_no_monetary_correction = np.array(tmp_autocorr_fuels_no_monetary_correction)\n",
    "#\n",
    "\n",
    "gasolina_series_autocorr_fuels_no_monetary_correction = pd.Series(df[df.PRODUTO == 'GASOLINA'].PRECO_MEDIO_REVENDA)\n",
    "tmp2_autocorr_fuels_no_monetary_correction = sm.tsa.stattools.acf(gasolina_series_autocorr_fuels_no_monetary_correction, nlags=nLAGS)\n",
    "auto_corr_gasolina_autocorr_fuels_no_monetary_correction = np.array(tmp2_autocorr_fuels_no_monetary_correction)\n",
    "\n",
    "\n",
    "#\n",
    "diesel_series_autocorr_fuels_no_monetary_correction = pd.Series(df[df.PRODUTO == 'OLEO_DIESEL'].PRECO_MEDIO_REVENDA)\n",
    "tmp3_autocorr_fuels_no_monetary_correction = sm.tsa.stattools.acf(diesel_series_autocorr_fuels_no_monetary_correction, nlags=nLAGS)\n",
    "auto_corr_diesel_autocorr_fuels_no_monetary_correction = np.array(tmp3_autocorr_fuels_no_monetary_correction)\n",
    "\n",
    "\n",
    "#\n",
    "data_auto_corr_fuels_no_monetary_correction = [\n",
    "    go.Scatter(\n",
    "        x = np.linspace(0, 1, auto_corr_etanol_autocorr_fuels_no_monetary_correction.size),\n",
    "        y = auto_corr_etanol_autocorr_fuels_no_monetary_correction,\n",
    "        name = 'Etanol'\n",
    "    ),\n",
    "    go.Scatter(\n",
    "        x = np.linspace(0, 1, auto_corr_gasolina_autocorr_fuels_no_monetary_correction.size),\n",
    "        y = auto_corr_gasolina_autocorr_fuels_no_monetary_correction,\n",
    "        name = 'Gasolina'\n",
    "    ),\n",
    "    go.Scatter(\n",
    "        x = np.linspace(0, 1, auto_corr_diesel_autocorr_fuels_no_monetary_correction.size),\n",
    "        y = auto_corr_diesel_autocorr_fuels_no_monetary_correction,\n",
    "        name = 'Diesel'\n",
    "    )\n",
    "    \n",
    "]\n",
    "\n",
    "#\n",
    "layout_autocorr_fuels_no_monetary_correction = go.Layout(\n",
    "    title='Função de Autorrelação para Série Histórica de Combustíveis. Nenhuma Correção Monetária Aplicada',\n",
    "    yaxis=dict(title='Índice de Autocorrelação'),\n",
    "    xaxis=dict(title='LAG')\n",
    ")\n",
    "\n",
    "fig_autocorr_fuels_no_monetary_correction = go.Figure(data = data_auto_corr_fuels_no_monetary_correction, layout = layout_autocorr_fuels_no_monetary_correction)\n",
    "py.iplot(fig_autocorr_fuels_no_monetary_correction, filename='file_autocorr_fuels_no_monetary_correction')"
   ]
  },
  {
   "cell_type": "code",
   "execution_count": 12,
   "metadata": {
    "scrolled": false,
    "slideshow": {
     "slide_type": "notes"
    }
   },
   "outputs": [
    {
     "data": {
      "text/html": [
       "<iframe id=\"igraph\" scrolling=\"no\" style=\"border:none;\" seamless=\"seamless\" src=\"https://plot.ly/~moraesje/31.embed\" height=\"525px\" width=\"100%\"></iframe>"
      ],
      "text/plain": [
       "<plotly.tools.PlotlyDisplay object>"
      ]
     },
     "execution_count": 12,
     "metadata": {},
     "output_type": "execute_result"
    }
   ],
   "source": [
    "#\n",
    "nLAGS = 200\n",
    "#\n",
    "etanol_series = pd.Series(df[df.PRODUTO == 'ETANOL_HIDRATADO'].PRECO_MEDIO_REVENDA_DEFLACIONADO)\n",
    "tmp = sm.tsa.stattools.acf(etanol_series, nlags=nLAGS)\n",
    "auto_corr_etanol = np.array(tmp)\n",
    "#\n",
    "\n",
    "gasolina_series = pd.Series(df[df.PRODUTO == 'GASOLINA'].PRECO_MEDIO_REVENDA_DEFLACIONADO)\n",
    "tmp2 = sm.tsa.stattools.acf(gasolina_series, nlags=nLAGS)\n",
    "auto_corr_gasolina = np.array(tmp2)\n",
    "\n",
    "\n",
    "#\n",
    "diesel_series = pd.Series(df[df.PRODUTO == 'OLEO_DIESEL'].PRECO_MEDIO_REVENDA_DEFLACIONADO)\n",
    "tmp3 = sm.tsa.stattools.acf(diesel_series, nlags=nLAGS)\n",
    "auto_corr_diesel = np.array(tmp3)\n",
    "\n",
    "\n",
    "#\n",
    "data_auto_corr = [\n",
    "    go.Scatter(\n",
    "        x = np.linspace(0, 1, auto_corr_etanol.size),\n",
    "        y = auto_corr_etanol,\n",
    "        name = 'Etanol'\n",
    "    ),\n",
    "    go.Scatter(\n",
    "        x = np.linspace(0, 1, auto_corr_gasolina.size),\n",
    "        y = auto_corr_gasolina,\n",
    "        name = 'Gasolina'\n",
    "    ),\n",
    "    go.Scatter(\n",
    "        x = np.linspace(0, 1, auto_corr_diesel.size),\n",
    "        y = auto_corr_diesel,\n",
    "        name = 'Diesel'\n",
    "    )\n",
    "    \n",
    "]\n",
    "\n",
    "#\n",
    "layout_data_auto_corr = go.Layout(\n",
    "    title='Função de Autorrelação para Série Histórica de Combustíveis. Inflação do Período Corrigida pelo Índice IGP-M para data de ___/___/___',\n",
    "    yaxis=dict(title='AUTORRELATION INDEX'),\n",
    "    xaxis=dict(title='LAG')\n",
    ")\n",
    "\n",
    "fig = go.Figure(data = data_auto_corr, layout = layout_data_auto_corr)\n",
    "py.iplot(fig, filename='file_autocorr_fuels_igp_m_monetary_correction')"
   ]
  },
  {
   "cell_type": "code",
   "execution_count": 13,
   "metadata": {},
   "outputs": [],
   "source": [
    "# pd.plotting.autocorrelation_plot(serie_etanol);\n",
    "# pd.plotting.autocorrelation_plot(gaso);\n",
    "# pd.plotting.autocorrelation_plot(diesilo);"
   ]
  },
  {
   "cell_type": "markdown",
   "metadata": {},
   "source": [
    "-----"
   ]
  },
  {
   "cell_type": "code",
   "execution_count": 14,
   "metadata": {},
   "outputs": [],
   "source": [
    "#\n",
    "t = np.linspace(0, 1, nLAGS)\n",
    "\n",
    "fft_etanol = np.abs(np.fft.fft(auto_corr_etanol))**2\n",
    "\n",
    "freq = np.fft.fftfreq(t.shape[-1])"
   ]
  },
  {
   "cell_type": "code",
   "execution_count": 15,
   "metadata": {},
   "outputs": [
    {
     "data": {
      "text/html": [
       "<iframe id=\"igraph\" scrolling=\"no\" style=\"border:none;\" seamless=\"seamless\" src=\"https://plot.ly/~moraesje/33.embed\" height=\"525px\" width=\"100%\"></iframe>"
      ],
      "text/plain": [
       "<plotly.tools.PlotlyDisplay object>"
      ]
     },
     "execution_count": 15,
     "metadata": {},
     "output_type": "execute_result"
    }
   ],
   "source": [
    "#\n",
    "dd = [\n",
    "        go.Scatter(\n",
    "        x = t,\n",
    "        y = fft_etanol,\n",
    "        name = 'FFT Etanol'\n",
    "     )\n",
    "]\n",
    "\n",
    "\n",
    "#\n",
    "ddl = go.Layout(\n",
    "    title='FFT',\n",
    "    yaxis=dict(title='Frequência'),\n",
    "    xaxis=dict(title='Intensidade (unids arbitrárias)')\n",
    ")\n",
    "\n",
    "\n",
    "#\n",
    "fig_ = go.Figure(data = dd, layout=ddl)\n",
    "py.iplot(fig_, filename='ddfft_file_data_idx_econ_br')"
   ]
  },
  {
   "cell_type": "markdown",
   "metadata": {},
   "source": [
    "-----"
   ]
  },
  {
   "cell_type": "code",
   "execution_count": 16,
   "metadata": {},
   "outputs": [],
   "source": []
  },
  {
   "cell_type": "code",
   "execution_count": 19,
   "metadata": {},
   "outputs": [
    {
     "data": {
      "text/html": [
       "<iframe id=\"igraph\" scrolling=\"no\" style=\"border:none;\" seamless=\"seamless\" src=\"https://plot.ly/~moraesje/33.embed\" height=\"525px\" width=\"100%\"></iframe>"
      ],
      "text/plain": [
       "<plotly.tools.PlotlyDisplay object>"
      ]
     },
     "execution_count": 19,
     "metadata": {},
     "output_type": "execute_result"
    }
   ],
   "source": [
    "\n",
    "from scipy.fftpack import fft, fftfreq\n",
    "import matplotlib.pyplot as plt\n",
    "\n",
    "dt = 0.001\n",
    "X = fft(etanol['PRECO_MEDIO_REVENDA'])\n",
    "freq = fftfreq(X.size, d=dt)\n",
    "\n",
    "# Only keep positive frequencies.\n",
    "keep = freq>=0\n",
    "X = X[keep]\n",
    "freq = freq[keep]\n",
    "\n",
    "###\n",
    "dd = [\n",
    "        go.Scatter(\n",
    "        x = freq,\n",
    "        y = fft_etanol,\n",
    "        name = 'FFT Etanol'\n",
    "     )\n",
    "]\n",
    "\n",
    "\n",
    "#\n",
    "ddl = go.Layout(\n",
    "    title='FFT',\n",
    "    yaxis=dict(title='Frequência'),\n",
    "    xaxis=dict(title='Intensidade (unids arbitrárias)')\n",
    ")\n",
    "\n",
    "\n",
    "#\n",
    "fig_ = go.Figure(data = dd, layout=ddl)\n",
    "py.iplot(fig_, filename='ddfft_file_data_idx_econ_br')"
   ]
  },
  {
   "cell_type": "code",
   "execution_count": null,
   "metadata": {},
   "outputs": [],
   "source": []
  },
  {
   "cell_type": "code",
   "execution_count": null,
   "metadata": {},
   "outputs": [],
   "source": []
  },
  {
   "cell_type": "code",
   "execution_count": 18,
   "metadata": {},
   "outputs": [
    {
     "data": {
      "image/png": "[encoded data removed]",
      "text/plain": [
       "<Figure size 432x288 with 1 Axes>"
      ]
     },
     "metadata": {},
     "output_type": "display_data"
    }
   ],
   "source": [
    "from scipy import signal\n",
    "import matplotlib.pyplot as plt\n",
    "\n",
    "\n",
    "fs = 10e3\n",
    "N = 1e5\n",
    "amp = 2*np.sqrt(2)\n",
    "freq = 1234.0\n",
    "noise_power = 0.001 * fs / 2\n",
    "time = np.arange(N) / fs\n",
    "x = amp*np.sin(2*np.pi*freq*time)\n",
    "x += np.random.normal(scale=np.sqrt(noise_power), size=time.shape)\n",
    "\n",
    "\n",
    "f, Pxx_den = signal.periodogram(x, fs)\n",
    "plt.semilogy(f, Pxx_den)\n",
    "plt.ylim([1e-7, 1e2])\n",
    "plt.xlabel('frequency [Hz]')\n",
    "plt.ylabel('PSD [V**2/Hz]')\n",
    "plt.show()"
   ]
  },
  {
   "cell_type": "code",
   "execution_count": null,
   "metadata": {},
   "outputs": [],
   "source": []
  },
  {
   "cell_type": "code",
   "execution_count": null,
   "metadata": {},
   "outputs": [],
   "source": []
  }
 ],
 "metadata": {
  "kernelspec": {
   "display_name": "Python 3",
   "language": "python",
   "name": "python3"
  },
  "language_info": {
   "codemirror_mode": {
    "name": "ipython",
    "version": 3
   },
   "file_extension": ".py",
   "mimetype": "text/x-python",
   "name": "python",
   "nbconvert_exporter": "python",
   "pygments_lexer": "ipython3",
   "version": "3.6.5"
  }
 },
 "nbformat": 4,
 "nbformat_minor": 2
}
