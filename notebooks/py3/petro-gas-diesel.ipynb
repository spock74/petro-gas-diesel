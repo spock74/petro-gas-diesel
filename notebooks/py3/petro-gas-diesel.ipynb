{
 "cells": [
  {
   "cell_type": "code",
   "execution_count": 3,
   "metadata": {},
   "outputs": [],
   "source": [
    "import numpy as np"
   ]
  },
  {
   "cell_type": "code",
   "execution_count": 4,
   "metadata": {},
   "outputs": [],
   "source": [
    "import pandas as pd\n",
    "from pandas import Series\n",
    "import statsmodels.api as sm\n",
    "import plotly.plotly as py\n",
    "import plotly.graph_objs as go\n",
    "import plotly.figure_factory as ff\n",
    "\n",
    "#from statsmodels.graphics.tsaplots import plot_acf"
   ]
  },
  {
   "cell_type": "code",
   "execution_count": 5,
   "metadata": {},
   "outputs": [],
   "source": [
    "df = pd.read_csv('./serie_deflacionada_igpm.csv')"
   ]
  },
  {
   "cell_type": "code",
   "execution_count": 6,
   "metadata": {},
   "outputs": [],
   "source": [
    "gas = df[df.PRODUTO == 'GASOLINA']\n",
    "diesel = df[df.PRODUTO == 'OLEO_DIESEL']\n",
    "etanol = df[df.PRODUTO == 'ETANOL_HIDRATADO']\n",
    "gnv = df[df.PRODUTO == 'GNV']"
   ]
  },
  {
   "cell_type": "code",
   "execution_count": 7,
   "metadata": {},
   "outputs": [],
   "source": [
    "data = [\n",
    "    go.Scatter(\n",
    "        x=gas['MES'], # assign x as the dataframe column 'x'\n",
    "        y=gas['PRECO_MEDIO_REVENDA_DEFLACIONADO'],\n",
    "        name='Gasolina'\n",
    "    ),\n",
    "    go.Scatter(\n",
    "        x=diesel['MES'], # assign x as the dataframe column 'x'\n",
    "        y=diesel['PRECO_MEDIO_REVENDA_DEFLACIONADO'],\n",
    "        name='Diesel'\n",
    "    ),\n",
    "    go.Scatter(\n",
    "        x=etanol['MES'], # assign x as the dataframe column 'x'\n",
    "        y=etanol['PRECO_MEDIO_REVENDA_DEFLACIONADO'],\n",
    "        name='Etanol'\n",
    "    ),\n",
    "    go.Scatter(\n",
    "        x=gnv['MES'], # assign x as the dataframe column 'x'\n",
    "        y=gnv['PRECO_MEDIO_REVENDA_DEFLACIONADO'],\n",
    "        name='GNV'\n",
    "    )\n",
    "]"
   ]
  },
  {
   "cell_type": "code",
   "execution_count": 8,
   "metadata": {},
   "outputs": [],
   "source": [
    "layout = go.Layout(\n",
    "    title='Preço Médio Nacional de Revenda de Combustíveis',\n",
    "    yaxis=dict(title='Preço (R$)'),\n",
    "    xaxis=dict(title='Tempo')\n",
    ")"
   ]
  },
  {
   "cell_type": "code",
   "execution_count": 9,
   "metadata": {},
   "outputs": [],
   "source": [
    "fig = go.Figure(data=data, layout=layout)"
   ]
  },
  {
   "cell_type": "code",
   "execution_count": 10,
   "metadata": {},
   "outputs": [
    {
     "data": {
      "text/html": [
       "<iframe id=\"igraph\" scrolling=\"no\" style=\"border:none;\" seamless=\"seamless\" src=\"https://plot.ly/~moraesje/15.embed\" height=\"525px\" width=\"100%\"></iframe>"
      ],
      "text/plain": [
       "<plotly.tools.PlotlyDisplay object>"
      ]
     },
     "execution_count": 10,
     "metadata": {},
     "output_type": "execute_result"
    }
   ],
   "source": [
    "py.iplot(fig, filename='line-plot-title')"
   ]
  },
  {
   "cell_type": "code",
   "execution_count": null,
   "metadata": {},
   "outputs": [],
   "source": []
  },
  {
   "cell_type": "code",
   "execution_count": 11,
   "metadata": {
    "scrolled": false
   },
   "outputs": [
    {
     "data": {
      "text/html": [
       "<iframe id=\"igraph\" scrolling=\"no\" style=\"border:none;\" seamless=\"seamless\" src=\"https://plot.ly/~moraesje/19.embed\" height=\"525px\" width=\"100%\"></iframe>"
      ],
      "text/plain": [
       "<plotly.tools.PlotlyDisplay object>"
      ]
     },
     "execution_count": 11,
     "metadata": {},
     "output_type": "execute_result"
    }
   ],
   "source": [
    "gaso = gas.PRECO_MEDIO_REVENDA_DEFLACIONADO\n",
    "etano = etanol.PRECO_MEDIO_REVENDA_DEFLACIONADO\n",
    "ss = sm.tsa.stattools.acf(etano, nlags=200)\n",
    "ssnp = np.array(ss)\n",
    "\n",
    "trace = go.Scatter(\n",
    "        x = np.linspace(0, 1, ssnp.size),\n",
    "        y = ssnp\n",
    "    )\n",
    "\n",
    "\n",
    "data = [trace]\n",
    "\n",
    "py.iplot(data, filename='basic-line')"
   ]
  },
  {
   "cell_type": "code",
   "execution_count": 14,
   "metadata": {},
   "outputs": [],
   "source": [
    "# diesilo = diesel.PRECO_MEDIO_REVENDA_DEFLACIONADO\n",
    "# series = Series.from_array(gaso)\n",
    "# series2 = Series.from_array(diesilo)\n",
    "# serie_etanol = Series.from_array(etano)"
   ]
  },
  {
   "cell_type": "code",
   "execution_count": 16,
   "metadata": {},
   "outputs": [],
   "source": [
    "# pd.plotting.autocorrelation_plot(serie_etanol);\n",
    "# pd.plotting.autocorrelation_plot(gaso);\n",
    "# pd.plotting.autocorrelation_plot(diesilo);"
   ]
  },
  {
   "cell_type": "code",
   "execution_count": null,
   "metadata": {},
   "outputs": [],
   "source": []
  }
 ],
 "metadata": {
  "kernelspec": {
   "display_name": "Python 3",
   "language": "python",
   "name": "python3"
  },
  "language_info": {
   "codemirror_mode": {
    "name": "ipython",
    "version": 3
   },
   "file_extension": ".py",
   "mimetype": "text/x-python",
   "name": "python",
   "nbconvert_exporter": "python",
   "pygments_lexer": "ipython3",
   "version": "3.6.5"
  }
 },
 "nbformat": 4,
 "nbformat_minor": 2
}
